{
 "cells": [
  {
   "cell_type": "code",
   "execution_count": 1,
   "metadata": {},
   "outputs": [],
   "source": [
    "import pandas as pd\n",
    "import os\n",
    "import numpy as np"
   ]
  },
  {
   "cell_type": "code",
   "execution_count": 2,
   "metadata": {},
   "outputs": [],
   "source": [
    "# Declare the working directory\n",
    "path = r'C:\\Users\\jigon\\OneDrive\\Documentos\\Economía\\MunicipalitiesPoliticalBudgetCycles\\Regressions'\n",
    "# path = r'D:\\Ignacio\\OneDrive\\Documentos\\Economía\\BCCR'\n",
    "# Set working directory\n",
    "os.chdir(path)"
   ]
  },
  {
   "cell_type": "code",
   "execution_count": 3,
   "metadata": {},
   "outputs": [],
   "source": [
    "final_dataset = pd.read_stata(\"base_regresiones.dta\")"
   ]
  },
  {
   "cell_type": "code",
   "execution_count": 4,
   "metadata": {},
   "outputs": [],
   "source": [
    "stats_df = final_dataset[['year', 'municipality', \"remu\", \"serv\", \"d_goods\", \"remu_bas\", \"remu_ev\", \"rentals\", \"serv_cf\", \n",
    "                          \"cap_prot\", \"maintenance\", \"cap_mef\", \"cap_cai\", \"salaries\", \"ext_time\", \"sub_all\", \"rent_mef\", \n",
    "                          \"publicity\", \"activities\", \"main_bcl\", \"cap_roads\", \"total_expenses\", \"pop\", \"price_index\"]]"
   ]
  },
  {
   "cell_type": "code",
   "execution_count": 5,
   "metadata": {},
   "outputs": [
    {
     "name": "stderr",
     "output_type": "stream",
     "text": [
      "C:\\Users\\jigon\\AppData\\Local\\Temp\\ipykernel_15340\\4050734573.py:1: SettingWithCopyWarning: \n",
      "A value is trying to be set on a copy of a slice from a DataFrame.\n",
      "Try using .loc[row_indexer,col_indexer] = value instead\n",
      "\n",
      "See the caveats in the documentation: https://pandas.pydata.org/pandas-docs/stable/user_guide/indexing.html#returning-a-view-versus-a-copy\n",
      "  stats_df[\"rpc\"] = 100 / (stats_df[\"pop\"] * stats_df[\"price_index\"] * 1000)\n",
      "C:\\Users\\jigon\\AppData\\Local\\Temp\\ipykernel_15340\\4050734573.py:2: SettingWithCopyWarning: \n",
      "A value is trying to be set on a copy of a slice from a DataFrame.\n",
      "Try using .loc[row_indexer,col_indexer] = value instead\n",
      "\n",
      "See the caveats in the documentation: https://pandas.pydata.org/pandas-docs/stable/user_guide/indexing.html#returning-a-view-versus-a-copy\n",
      "  stats_df.loc[:, [\"remu\", \"serv\", \"d_goods\", \"remu_bas\", \"remu_ev\", \"rentals\", \"serv_cf\", \"cap_prot\", \"maintenance\",\n"
     ]
    }
   ],
   "source": [
    "stats_df[\"rpc\"] = 100 / (stats_df[\"pop\"] * stats_df[\"price_index\"] * 1000)\n",
    "stats_df.loc[:, [\"remu\", \"serv\", \"d_goods\", \"remu_bas\", \"remu_ev\", \"rentals\", \"serv_cf\", \"cap_prot\", \"maintenance\", \n",
    "          \"cap_mef\", \"cap_cai\", \"salaries\", \"ext_time\", \"sub_all\", \"rent_mef\", \"publicity\", \"activities\", \n",
    "          \"main_bcl\", \"cap_roads\", \"total_expenses\"]] = stats_df.loc[:, [\"remu\", \"serv\", \"d_goods\", \"remu_bas\", \"remu_ev\", \"rentals\", \"serv_cf\", \"cap_prot\", \"maintenance\", \n",
    "                                                                  \"cap_mef\", \"cap_cai\", \"salaries\", \"ext_time\", \"sub_all\", \"rent_mef\", \"publicity\", \"activities\", \n",
    "                                                                  \"main_bcl\", \"cap_roads\", \"total_expenses\"]].multiply(stats_df[\"rpc\"], axis=0)\n",
    "stats_df.columns = ['Year', 'Municipality', 'Remunerations', 'Services', 'Durable Goods', 'Basic remuneration',\n",
    "       'Contingent remuneration', 'Rentals', 'Financial and commercial services', 'Training and Protocol', 'Maintenance and repairs', 'Machinery, equipment and mobiliary adquisitions',\n",
    "       'Construction, additions and remodelating', 'Salaries', 'Overtime', 'Subsistence allowance', 'Machines, equipment and mobiliary rentals', 'Advertisement and Publicity',\n",
    "       'Protocolary and social activities', 'Buildings, constructions and lands maintenance', 'Roads', 'Total expenses', 'Population',\n",
    "       'Price index', 'RPC per thousand adjustment']"
   ]
  },
  {
   "cell_type": "code",
   "execution_count": 6,
   "metadata": {},
   "outputs": [],
   "source": [
    "table1 = stats_df.drop(columns=[\"Year\", \"Municipality\", \"Population\", \"Price index\", \"RPC per thousand adjustment\"]).describe(percentiles=[0.10, 0.25, 0.50, 0.75, 0.90, 0.95, 0.99]).T\n",
    "table1.drop(columns=[\"count\", \"max\", 'min'], inplace=True)\n",
    "table1.columns = [\"Mean\", \"St Dev\", \"10th\", \"25th\", \"50th\", \"75th\", \"90th\", \"95th\", \"99th\"]\n",
    "table1.index.name = \"Expenditure\""
   ]
  },
  {
   "cell_type": "code",
   "execution_count": 7,
   "metadata": {},
   "outputs": [],
   "source": [
    "table1 = table1.style.format({\"N\": \"{:.0f}\", \n",
    "               \"Mean\": \"{:.2f}\", \n",
    "               \"St Dev\": \"{:.2f}\", \n",
    "               \"10th\": \"{:.2f}\", \n",
    "               \"25th\": \"{:.2f}\", \n",
    "               \"50th\": \"{:.2f}\", \n",
    "               \"75th\": \"{:.2f}\", \n",
    "               \"90th\": \"{:.2f}\", \n",
    "               \"95th\": \"{:.2f}\", \n",
    "               \"99th\": \"{:.2f}\"\n",
    "}) "
   ]
  },
  {
   "cell_type": "code",
   "execution_count": 8,
   "metadata": {},
   "outputs": [],
   "source": [
    "table1.to_latex(\"table1.tex\", \n",
    "                position=\"h\", \n",
    "                position_float=\"centering\", \n",
    "                hrules=True, \n",
    "                caption=r\"Summary statistics of expenditures\\\\(Thousands of real 2020 colones)\")"
   ]
  },
  {
   "cell_type": "code",
   "execution_count": 9,
   "metadata": {},
   "outputs": [],
   "source": [
    "table2 = stats_df.query(\"Year == 2014\").drop(columns=[\"Year\", \"Municipality\", \"Population\", \"Price index\", \"RPC per thousand adjustment\"]).describe(percentiles=[0.10, 0.25, 0.50, 0.75, 0.90, 0.95, 0.99]).T\n",
    "table2.drop(columns=[\"count\", \"max\", 'min'], inplace=True)\n",
    "table2.columns = [\"Mean\", \"St Dev\", \"10th\", \"25th\", \"50th\", \"75th\", \"90th\", \"95th\", \"99th\"]\n",
    "table2.index.name = \"Expenditure\""
   ]
  },
  {
   "cell_type": "code",
   "execution_count": 10,
   "metadata": {},
   "outputs": [],
   "source": [
    "table2 = table2.style.format({\"N\": \"{:.0f}\", \n",
    "               \"Mean\": \"{:.2f}\", \n",
    "               \"St Dev\": \"{:.2f}\", \n",
    "               \"10th\": \"{:.2f}\", \n",
    "               \"25th\": \"{:.2f}\", \n",
    "               \"50th\": \"{:.2f}\", \n",
    "               \"75th\": \"{:.2f}\", \n",
    "               \"90th\": \"{:.2f}\", \n",
    "               \"95th\": \"{:.2f}\", \n",
    "               \"99th\": \"{:.2f}\"\n",
    "}) "
   ]
  },
  {
   "cell_type": "code",
   "execution_count": 11,
   "metadata": {},
   "outputs": [],
   "source": [
    "table2.to_latex(\"table2.tex\", \n",
    "                position=\"h\", \n",
    "                position_float=\"centering\", \n",
    "                hrules=True, \n",
    "                caption=r\"Summary statistics of expenditures, 2014\\\\(Thousands of real 2020 colones)\")"
   ]
  },
  {
   "cell_type": "code",
   "execution_count": 12,
   "metadata": {},
   "outputs": [],
   "source": [
    "table3 = stats_df.drop(columns=[\"Year\", \"Municipality\", \"Population\", \"Price index\", \"RPC per thousand adjustment\"]).multiply(100 / stats_df[\"Total expenses\"], axis=0).describe(percentiles=[0.10, 0.25, 0.50, 0.75, 0.90, 0.95, 0.99]).T\n",
    "table3.drop(columns=[\"count\", \"max\", 'min'], inplace=True)\n",
    "table3.columns = [\"Mean\", \"St Dev\", \"10th\", \"25th\", \"50th\", \"75th\", \"90th\", \"95th\", \"99th\"]\n",
    "table3.index.name = \"Expenditure\""
   ]
  },
  {
   "cell_type": "code",
   "execution_count": 13,
   "metadata": {},
   "outputs": [],
   "source": [
    "table3 = table3.style.format({\"N\": \"{:.0f}\", \n",
    "               \"Mean\": \"{:.2f}\", \n",
    "               \"St Dev\": \"{:.2f}\", \n",
    "               \"10th\": \"{:.2f}\", \n",
    "               \"25th\": \"{:.2f}\", \n",
    "               \"50th\": \"{:.2f}\", \n",
    "               \"75th\": \"{:.2f}\", \n",
    "               \"90th\": \"{:.2f}\", \n",
    "               \"95th\": \"{:.2f}\", \n",
    "               \"99th\": \"{:.2f}\"\n",
    "}) "
   ]
  },
  {
   "cell_type": "code",
   "execution_count": 14,
   "metadata": {},
   "outputs": [],
   "source": [
    "table3.to_latex(\"table3.tex\", \n",
    "                position=\"h\", \n",
    "                position_float=\"centering\", \n",
    "                hrules=True, \n",
    "                caption=r\"Expenditures as a share of total expenditure (\\%)\\\\(Thousands of real 2020 colones)\")"
   ]
  },
  {
   "cell_type": "code",
   "execution_count": 15,
   "metadata": {},
   "outputs": [],
   "source": [
    "table4 = stats_df.query(\"Year == 2014\").drop(columns=[\"Year\", \"Municipality\", \"Population\", \"Price index\", \"RPC per thousand adjustment\"]).multiply(100 / stats_df[\"Total expenses\"], axis=0).describe(percentiles=[0.10, 0.25, 0.50, 0.75, 0.90, 0.95, 0.99]).T\n",
    "table4.drop(columns=[\"count\", \"max\", 'min'], inplace=True)\n",
    "table4.columns = [\"Mean\", \"St Dev\", \"10th\", \"25th\", \"50th\", \"75th\", \"90th\", \"95th\", \"99th\"]\n",
    "table4.index.name = \"Expenditure\""
   ]
  },
  {
   "cell_type": "code",
   "execution_count": 16,
   "metadata": {},
   "outputs": [],
   "source": [
    "table4 = table4.style.format({\"N\": \"{:.0f}\", \n",
    "               \"Mean\": \"{:.2f}\", \n",
    "               \"St Dev\": \"{:.2f}\", \n",
    "               \"10th\": \"{:.2f}\", \n",
    "               \"25th\": \"{:.2f}\", \n",
    "               \"50th\": \"{:.2f}\", \n",
    "               \"75th\": \"{:.2f}\", \n",
    "               \"90th\": \"{:.2f}\", \n",
    "               \"95th\": \"{:.2f}\", \n",
    "               \"99th\": \"{:.2f}\"\n",
    "}) "
   ]
  },
  {
   "cell_type": "code",
   "execution_count": 17,
   "metadata": {},
   "outputs": [],
   "source": [
    "table4.to_latex(\"table4.tex\", \n",
    "                position=\"h\", \n",
    "                position_float=\"centering\", \n",
    "                hrules=True, \n",
    "                caption=r\"Expenditures as a share of total expenditure (\\%), 2014\\\\(Thousands of real 2020 colones)\")"
   ]
  }
 ],
 "metadata": {
  "kernelspec": {
   "display_name": "Python 3.9.12 ('base')",
   "language": "python",
   "name": "python3"
  },
  "language_info": {
   "codemirror_mode": {
    "name": "ipython",
    "version": 3
   },
   "file_extension": ".py",
   "mimetype": "text/x-python",
   "name": "python",
   "nbconvert_exporter": "python",
   "pygments_lexer": "ipython3",
   "version": "3.9.12"
  },
  "orig_nbformat": 4,
  "vscode": {
   "interpreter": {
    "hash": "f39ebb3d7294f4835baf943e4a7a8a538901f08bbb74d6ca4ff9898e85895668"
   }
  }
 },
 "nbformat": 4,
 "nbformat_minor": 2
}
